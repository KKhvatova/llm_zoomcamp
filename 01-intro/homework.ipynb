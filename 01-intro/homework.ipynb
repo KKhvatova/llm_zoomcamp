{
 "cells": [
  {
   "cell_type": "code",
   "execution_count": 1,
   "id": "c54ac0eb-5dcf-4b91-9a9b-10e66082a6f4",
   "metadata": {},
   "outputs": [],
   "source": [
    "import openai\n",
    "from openai import OpenAI\n",
    "\n",
    "import os"
   ]
  },
  {
   "cell_type": "code",
   "execution_count": 4,
   "id": "3d6fa8ad-46a3-40f0-9647-87000f46318c",
   "metadata": {},
   "outputs": [],
   "source": [
    "import requests"
   ]
  },
  {
   "cell_type": "code",
   "execution_count": 12,
   "id": "c8cad67f-5631-4519-ae30-08f5b4d0d01c",
   "metadata": {},
   "outputs": [],
   "source": [
    "from elasticsearch import Elasticsearch"
   ]
  },
  {
   "cell_type": "code",
   "execution_count": 11,
   "id": "5a397b89-2483-466c-8dc2-146a2322115b",
   "metadata": {},
   "outputs": [],
   "source": [
    "from tqdm.auto import tqdm"
   ]
  },
  {
   "cell_type": "markdown",
   "id": "0ffc37d7-d756-4367-9d66-47b7099fb07f",
   "metadata": {},
   "source": [
    "### Import ElasticSearch"
   ]
  },
  {
   "cell_type": "code",
   "execution_count": 2,
   "id": "c911ffca-6ea9-4742-9220-5c222ebad19d",
   "metadata": {},
   "outputs": [],
   "source": [
    "es_client = Elasticsearch('http://localhost:9200')"
   ]
  },
  {
   "cell_type": "code",
   "execution_count": 3,
   "id": "e3a84760-54ba-4bcb-be26-b814c27cc62b",
   "metadata": {},
   "outputs": [
    {
     "data": {
      "text/plain": [
       "ObjectApiResponse({'name': 'eaf3ebfda6ef', 'cluster_name': 'docker-cluster', 'cluster_uuid': '-0gyrV-LQvCwgOsZggI2YA', 'version': {'number': '8.4.3', 'build_flavor': 'default', 'build_type': 'docker', 'build_hash': '42f05b9372a9a4a470db3b52817899b99a76ee73', 'build_date': '2022-10-04T07:17:24.662462378Z', 'build_snapshot': False, 'lucene_version': '9.3.0', 'minimum_wire_compatibility_version': '7.17.0', 'minimum_index_compatibility_version': '7.0.0'}, 'tagline': 'You Know, for Search'})"
      ]
     },
     "execution_count": 3,
     "metadata": {},
     "output_type": "execute_result"
    }
   ],
   "source": [
    "es_client.info()"
   ]
  },
  {
   "cell_type": "markdown",
   "id": "551a4389-d28a-49c3-b2fa-120ed688ce69",
   "metadata": {},
   "source": [
    "### Get data"
   ]
  },
  {
   "cell_type": "code",
   "execution_count": 6,
   "id": "276b006c-bff7-4a65-a890-2c0ffc1ab104",
   "metadata": {},
   "outputs": [],
   "source": [
    "docs_url = 'https://github.com/DataTalksClub/llm-zoomcamp/blob/main/01-intro/documents.json?raw=1'\n",
    "docs_response = requests.get(docs_url)\n",
    "documents_raw = docs_response.json()\n",
    "\n",
    "documents = []\n",
    "\n",
    "for course in documents_raw:\n",
    "    course_name = course['course']\n",
    "\n",
    "    for doc in course['documents']:\n",
    "        doc['course'] = course_name\n",
    "        documents.append(doc)"
   ]
  },
  {
   "cell_type": "code",
   "execution_count": 8,
   "id": "d5923dd0-6172-4d5c-97ad-11cfa924b4d5",
   "metadata": {},
   "outputs": [
    {
     "data": {
      "text/plain": [
       "{'text': \"The purpose of this document is to capture frequently asked technical questions\\nThe exact day and hour of the course will be 15th Jan 2024 at 17h00. The course will start with the first  “Office Hours'' live.1\\nSubscribe to course public Google Calendar (it works from Desktop only).\\nRegister before the course starts using this link.\\nJoin the course Telegram channel with announcements.\\nDon’t forget to register in DataTalks.Club's Slack and join the channel.\",\n",
       " 'section': 'General course-related questions',\n",
       " 'question': 'Course - When will the course start?',\n",
       " 'course': 'data-engineering-zoomcamp'}"
      ]
     },
     "execution_count": 8,
     "metadata": {},
     "output_type": "execute_result"
    }
   ],
   "source": [
    "documents[0]"
   ]
  },
  {
   "cell_type": "markdown",
   "id": "2d126362-b980-42f5-89f4-6ac68219b0a9",
   "metadata": {},
   "source": [
    "### Indexing"
   ]
  },
  {
   "cell_type": "code",
   "execution_count": 10,
   "id": "fad43944-bf5b-4131-b3a5-e7265c1fe293",
   "metadata": {},
   "outputs": [
    {
     "data": {
      "text/plain": [
       "ObjectApiResponse({'acknowledged': True, 'shards_acknowledged': True, 'index': 'course-questions'})"
      ]
     },
     "execution_count": 10,
     "metadata": {},
     "output_type": "execute_result"
    }
   ],
   "source": [
    "index_settings = {\n",
    "    \"settings\": {\n",
    "        \"number_of_shards\": 1,\n",
    "        \"number_of_replicas\": 0\n",
    "    },\n",
    "    \"mappings\": {\n",
    "        \"properties\": {\n",
    "            \"text\": {\"type\": \"text\"},\n",
    "            \"section\": {\"type\": \"text\"},\n",
    "            \"question\": {\"type\": \"text\"},\n",
    "            \"course\": {\"type\": \"keyword\"} \n",
    "        }\n",
    "    }\n",
    "}\n",
    "\n",
    "index_name = \"course-questions\"\n",
    "\n",
    "es_client.indices.create(index=index_name, body=index_settings)"
   ]
  },
  {
   "cell_type": "code",
   "execution_count": 13,
   "id": "bb4a020c-566b-4db2-931e-9d2284d7a1fa",
   "metadata": {},
   "outputs": [
    {
     "name": "stderr",
     "output_type": "stream",
     "text": [
      "100%|██████████████████████████████████████████████████████████████████████████████████████████████████████████████| 948/948 [00:29<00:00, 32.65it/s]\n"
     ]
    }
   ],
   "source": [
    "for doc in tqdm(documents):\n",
    "    es_client.index(index=index_name, document=doc)"
   ]
  },
  {
   "cell_type": "markdown",
   "id": "7615b066-71fc-47fc-9475-5c5f2834d9ce",
   "metadata": {},
   "source": [
    "### Quering"
   ]
  },
  {
   "cell_type": "code",
   "execution_count": 46,
   "id": "09aef5a1-e449-4edc-9f96-2055a82b96c4",
   "metadata": {},
   "outputs": [],
   "source": [
    "query = \"How do I execute a command in a running docker container?\"\n",
    "\n",
    "\n",
    "search_query_1 = {\n",
    "    \"size\": 10,\n",
    "    \"query\": {\n",
    "        \"bool\": {\n",
    "            \"must\": {\n",
    "                \"multi_match\": {\n",
    "                    \"query\": query,\n",
    "                    \"fields\": [\"question^4\", \"text\"],\n",
    "                    \"type\": \"best_fields\"\n",
    "                }\n",
    "            }\n",
    "        }\n",
    "    }\n",
    "}\n",
    "\n",
    "search_query_2 = {\n",
    "    \"size\": 3,\n",
    "    \"query\": {\n",
    "        \"bool\": {\n",
    "            \"must\": {\n",
    "                \"multi_match\": {\n",
    "                    \"query\": query,\n",
    "                    \"fields\": [\"question^4\", \"text\"],\n",
    "                    \"type\": \"best_fields\"\n",
    "                }\n",
    "            },\n",
    "            \"filter\": {\n",
    "                \"term\": {\n",
    "                    \"course\": \"machine-learning-zoomcamp\"\n",
    "                }\n",
    "            }\n",
    "        }\n",
    "    }\n",
    "}"
   ]
  },
  {
   "cell_type": "code",
   "execution_count": 41,
   "id": "846a57cd-72be-4789-b917-e5bb556ac96b",
   "metadata": {},
   "outputs": [],
   "source": [
    "response_1 = es_client.search(index=index_name, body=search_query_1)"
   ]
  },
  {
   "cell_type": "code",
   "execution_count": 42,
   "id": "ec345201-834a-4b8e-9f4f-0499a0f9ab9a",
   "metadata": {},
   "outputs": [
    {
     "data": {
      "text/plain": [
       "84.050095"
      ]
     },
     "execution_count": 42,
     "metadata": {},
     "output_type": "execute_result"
    }
   ],
   "source": [
    "response_1[\"hits\"][\"hits\"][0][\"_score\"]"
   ]
  },
  {
   "cell_type": "code",
   "execution_count": 47,
   "id": "d7f45fa9-f498-4716-87ce-35b1a22998f8",
   "metadata": {},
   "outputs": [],
   "source": [
    "response_2 = es_client.search(index=index_name, body=search_query_2)"
   ]
  },
  {
   "cell_type": "code",
   "execution_count": 54,
   "id": "371b5528-5785-47a0-84e8-e254fe8548a6",
   "metadata": {},
   "outputs": [
    {
     "data": {
      "text/plain": [
       "'How do I copy files from a different folder into docker container’s working directory?'"
      ]
     },
     "execution_count": 54,
     "metadata": {},
     "output_type": "execute_result"
    }
   ],
   "source": [
    "response_2[\"hits\"][\"hits\"][2]['_source']['question']"
   ]
  },
  {
   "cell_type": "markdown",
   "id": "722a00c9-c260-499d-97e4-fd2d6ba0c1b4",
   "metadata": {},
   "source": [
    "### Building a prompt"
   ]
  },
  {
   "cell_type": "code",
   "execution_count": 55,
   "id": "3326a702-34f0-4066-9542-873d6dfcf87c",
   "metadata": {},
   "outputs": [],
   "source": [
    "context_template = \"\"\"\n",
    "                Q: {question}\n",
    "                A: {text}\n",
    "\"\"\".strip()"
   ]
  },
  {
   "cell_type": "code",
   "execution_count": 71,
   "id": "750e61d2-7fde-4c2b-8338-57328d6be495",
   "metadata": {},
   "outputs": [],
   "source": [
    "prompt_template = \"\"\"\n",
    "You're a course teaching assistant. Answer the QUESTION based on the CONTEXT from the FAQ database.\n",
    "Use only the facts from the CONTEXT when answering the QUESTION.\n",
    "\n",
    "QUESTION: {question}\n",
    "\n",
    "CONTEXT:\n",
    "{context}\n",
    "\"\"\".strip()"
   ]
  },
  {
   "cell_type": "code",
   "execution_count": 65,
   "id": "fd9c8ae6-4a4e-4051-b326-fb4f3f405480",
   "metadata": {},
   "outputs": [],
   "source": [
    "context = \"\"\n",
    "\n",
    "for doc in response_2[\"hits\"][\"hits\"]:\n",
    "    context = context + f\"Q: {doc['_source']['question']}\\nA: {doc['_source']['text']}\\n\\n\""
   ]
  },
  {
   "cell_type": "code",
   "execution_count": 72,
   "id": "84de9e68-1000-41ef-a985-a291ae8d3872",
   "metadata": {},
   "outputs": [
    {
     "name": "stdout",
     "output_type": "stream",
     "text": [
      "Q: How do I debug a docker container?\n",
      "A: Launch the container image in interactive mode and overriding the entrypoint, so that it starts a bash command.\n",
      "docker run -it --entrypoint bash <image>\n",
      "If the container is already running, execute a command in the specific container:\n",
      "docker ps (find the container-id)\n",
      "docker exec -it <container-id> bash\n",
      "(Marcos MJD)\n",
      "\n",
      "Q: How do I copy files from my local machine to docker container?\n",
      "A: You can copy files from your local machine into a Docker container using the docker cp command. Here's how to do it:\n",
      "To copy a file or directory from your local machine into a running Docker container, you can use the `docker cp command`. The basic syntax is as follows:\n",
      "docker cp /path/to/local/file_or_directory container_id:/path/in/container\n",
      "Hrithik Kumar Advani\n",
      "\n",
      "Q: How do I copy files from a different folder into docker container’s working directory?\n",
      "A: You can copy files from your local machine into a Docker container using the docker cp command. Here's how to do it:\n",
      "In the Dockerfile, you can provide the folder containing the files that you want to copy over. The basic syntax is as follows:\n",
      "COPY [\"src/predict.py\", \"models/xgb_model.bin\", \"./\"]\t\t\t\t\t\t\t\t\t\t\tGopakumar Gopinathan\n",
      "\n",
      "\n"
     ]
    }
   ],
   "source": [
    "print(context)"
   ]
  },
  {
   "cell_type": "code",
   "execution_count": 73,
   "id": "8a1df2cb-e1e5-45aa-b1d5-2f4d54c9f775",
   "metadata": {},
   "outputs": [
    {
     "data": {
      "text/plain": [
       "1462"
      ]
     },
     "execution_count": 73,
     "metadata": {},
     "output_type": "execute_result"
    }
   ],
   "source": [
    "len(prompt_template.format(question=query, context=context).strip())"
   ]
  },
  {
   "cell_type": "markdown",
   "id": "eeaadb48-9683-452a-ab4e-163c986b1bb6",
   "metadata": {},
   "source": [
    "### Tokens"
   ]
  },
  {
   "cell_type": "code",
   "execution_count": 77,
   "id": "7c8172ac-7fce-4bc4-b8e8-751b7958dbf7",
   "metadata": {},
   "outputs": [],
   "source": [
    "import tiktoken\n",
    "\n",
    "encoding = tiktoken.encoding_for_model(\"gpt-4o\")"
   ]
  },
  {
   "cell_type": "code",
   "execution_count": 82,
   "id": "0ed3237b-8224-474d-84f6-e88b70de4bc6",
   "metadata": {},
   "outputs": [
    {
     "data": {
      "text/plain": [
       "322"
      ]
     },
     "execution_count": 82,
     "metadata": {},
     "output_type": "execute_result"
    }
   ],
   "source": [
    "len(encoding.encode(text = prompt_template.format(question=query, context=context).strip()))"
   ]
  },
  {
   "cell_type": "markdown",
   "id": "27337652-a74f-4a35-8373-67523b8524c3",
   "metadata": {},
   "source": [
    "### OpenAI usage"
   ]
  },
  {
   "cell_type": "code",
   "execution_count": 3,
   "id": "6c578f6d-5a29-477a-a386-0815b66fd091",
   "metadata": {},
   "outputs": [],
   "source": [
    "client = OpenAI()"
   ]
  },
  {
   "cell_type": "code",
   "execution_count": 4,
   "id": "ec96a5b9-d54a-4293-97d6-da65877239d8",
   "metadata": {},
   "outputs": [],
   "source": [
    "response = client.chat.completions.create(\n",
    "    model='gpt-4o',\n",
    "    messages=[{\"role\": \"user\", \"content\": \"is it too late to join the course?\"}]\n",
    ") "
   ]
  },
  {
   "cell_type": "code",
   "execution_count": 5,
   "id": "59bc9910-8601-40f4-94e7-738dad3284ea",
   "metadata": {},
   "outputs": [
    {
     "data": {
      "text/plain": [
       "\"Whether it's too late to join a course depends on several factors, such as the specific registration deadlines set by the educational institution or course provider, the course start date, and the nature of the course (self-paced vs. instructor-led).\\n\\nHere are some steps you can take to determine if you can still join:\\n\\n1. **Check the Registration Deadline**: Look up the official registration dates for the course. This information is usually available on the course website or through the institution's registrar's office.\\n\\n2. **Contact the Course Provider**: Reach out directly to the admissions office, course instructor, or another relevant contact at the educational institution. They may offer you some flexibility or provide options for late enrollment.\\n\\n3. **Consider Self-Paced Courses**: If the course is self-paced, there may be no strict deadlines, allowing you to start at any time.\\n\\n4. **Review the Syllabus**: Understanding the course content and requirements can help you determine if you'll be able to catch up on missed material if you join late.\\n\\n5. **Ask About Auditing**: Some courses allow you to audit, meaning you can attend and participate without receiving formal credit. This could be an option if it's too late to register formally.\\n\\n6. **Look for Alternative Dates or Sessions**: The course may be offered multiple times a year, so inquire about the next available session if you can't join the current one.\\n\\n7. **Online Platforms**: If the course is hosted by an online platform like Coursera, edX, or Udacity, check their specific policies on enrollment deadlines and late registration.\\n\\nIf you provide more details about the course and institution, I might be able to give more specific advice!\""
      ]
     },
     "execution_count": 5,
     "metadata": {},
     "output_type": "execute_result"
    }
   ],
   "source": [
    "response.choices[0].message.content"
   ]
  },
  {
   "cell_type": "code",
   "execution_count": null,
   "id": "cffc170c-648c-46dc-b3f9-86839b3eab58",
   "metadata": {},
   "outputs": [],
   "source": [
    "]"
   ]
  },
  {
   "cell_type": "code",
   "execution_count": null,
   "id": "5d0d23ac-d7a7-406b-bf1c-d8e3b36ee777",
   "metadata": {},
   "outputs": [],
   "source": [
    "["
   ]
  }
 ],
 "metadata": {
  "kernelspec": {
   "display_name": "Python 3 (ipykernel)",
   "language": "python",
   "name": "python3"
  },
  "language_info": {
   "codemirror_mode": {
    "name": "ipython",
    "version": 3
   },
   "file_extension": ".py",
   "mimetype": "text/x-python",
   "name": "python",
   "nbconvert_exporter": "python",
   "pygments_lexer": "ipython3",
   "version": "3.10.13"
  }
 },
 "nbformat": 4,
 "nbformat_minor": 5
}
